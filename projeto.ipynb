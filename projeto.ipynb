{
 "metadata": {
  "language_info": {
   "codemirror_mode": {
    "name": "ipython",
    "version": 3
   },
   "file_extension": ".py",
   "mimetype": "text/x-python",
   "name": "python",
   "nbconvert_exporter": "python",
   "pygments_lexer": "ipython3",
   "version": "3.8.3-final"
  },
  "orig_nbformat": 2,
  "kernelspec": {
   "name": "python3",
   "display_name": "Python 3.8.3 64-bit",
   "metadata": {
    "interpreter": {
     "hash": "885c827cd822ba134d644bf7ec93dbbe54e503b864e406fdb8a7c16e78521c44"
    }
   }
  }
 },
 "nbformat": 4,
 "nbformat_minor": 2,
 "cells": [
  {
   "source": [
    "## Importando bibliotecas"
   ],
   "cell_type": "markdown",
   "metadata": {}
  },
  {
   "cell_type": "code",
   "execution_count": 1,
   "metadata": {},
   "outputs": [],
   "source": [
    "import re\n",
    "import json"
   ]
  },
  {
   "cell_type": "code",
   "execution_count": 2,
   "metadata": {},
   "outputs": [
    {
     "output_type": "stream",
     "name": "stdout",
     "text": [
      "Numero de documentos: 11225\n"
     ]
    }
   ],
   "source": [
    "data = []\n",
    "with open('dump_small.jsonln', 'r') as file:\n",
    "    for line in file:\n",
    "        data.append(json.loads(line))\n",
    "        \n",
    "print(f'Numero de documentos: {len(data)}')"
   ]
  },
  {
   "cell_type": "code",
   "execution_count": 3,
   "metadata": {},
   "outputs": [
    {
     "output_type": "stream",
     "name": "stdout",
     "text": [
      "dict_keys(['title', 'body'])\n"
     ]
    }
   ],
   "source": [
    "print(data[0].keys())"
   ]
  },
  {
   "source": [
    "## Função para encontrar links HTML"
   ],
   "cell_type": "markdown",
   "metadata": {}
  },
  {
   "cell_type": "code",
   "execution_count": 4,
   "metadata": {},
   "outputs": [],
   "source": [
    "# Baseado em https://gist.github.com/gruber/249502\n",
    "def rm_htmlLinks(texto):\n",
    "    return re.sub(r\"(?i)\\b((?:https?:(?:/{1,3}|[a-z0-9%])|[a-z0-9.\\-]+[.](?:com|net|org|edu|gov|mil|aero|asia|biz|cat|coop|info|int|jobs|mobi|museum|name|post|pro|tel|travel|xxx|ac|ad|ae|af|ag|ai|al|am|an|ao|aq|ar|as|at|au|aw|ax|az|ba|bb|bd|be|bf|bg|bh|bi|bj|bm|bn|bo|br|bs|bt|bv|bw|by|bz|ca|cc|cd|cf|cg|ch|ci|ck|cl|cm|cn|co|cr|cs|cu|cv|cx|cy|cz|dd|de|dj|dk|dm|do|dz|ec|ee|eg|eh|er|es|et|eu|fi|fj|fk|fm|fo|fr|ga|gb|gd|ge|gf|gg|gh|gi|gl|gm|gn|gp|gq|gr|gs|gt|gu|gw|gy|hk|hm|hn|hr|ht|hu|id|ie|il|im|in|io|iq|ir|is|it|je|jm|jo|jp|ke|kg|kh|ki|km|kn|kp|kr|kw|ky|kz|la|lb|lc|li|lk|lr|ls|lt|lu|lv|ly|ma|mc|md|me|mg|mh|mk|ml|mm|mn|mo|mp|mq|mr|ms|mt|mu|mv|mw|mx|my|mz|na|nc|ne|nf|ng|ni|nl|no|np|nr|nu|nz|om|pa|pe|pf|pg|ph|pk|pl|pm|pn|pr|ps|pt|pw|py|qa|re|ro|rs|ru|rw|sa|sb|sc|sd|se|sg|sh|si|sj|Ja|sk|sl|sm|sn|so|sr|ss|st|su|sv|sx|sy|sz|tc|td|tf|tg|th|tj|tk|tl|tm|tn|to|tp|tr|tt|tv|tw|tz|ua|ug|uk|us|uy|uz|va|vc|ve|vg|vi|vn|vu|wf|ws|ye|yt|yu|za|zm|zw)/)(?:[^\\s()<>{}\\[\\]]+|\\([^\\s()]*?\\([^\\s()]+\\)[^\\s()]*?\\)|\\([^\\s]+?\\))+(?:\\([^\\s()]*?\\([^\\s()]+\\)[^\\s()]*?\\)|\\([^\\s]+?\\)|[^\\s`!()\\[\\]{};:'\\\".,<>?«»“”‘’])|(?:(?<!@)[a-z0-9]+(?:[.\\-][a-z0-9]+)*[.](?:com|net|org|edu|gov|mil|aero|asia|biz|cat|coop|info|int|jobs|mobi|museum|name|post|pro|tel|travel|xxx|ac|ad|ae|af|ag|ai|al|am|an|ao|aq|ar|as|at|au|aw|ax|az|ba|bb|bd|be|bf|bg|bh|bi|bj|bm|bn|bo|br|bs|bt|bv|bw|by|bz|ca|cc|cd|cf|cg|ch|ci|ck|cl|cm|cn|co|cr|cs|cu|cv|cx|cy|cz|dd|de|dj|dk|dm|do|dz|ec|ee|eg|eh|er|es|et|eu|fi|fj|fk|fm|fo|fr|ga|gb|gd|ge|gf|gg|gh|gi|gl|gm|gn|gp|gq|gr|gs|gt|gu|gw|gy|hk|hm|hn|hr|ht|hu|id|ie|il|im|in|io|iq|ir|is|it|je|jm|jo|jp|ke|kg|kh|ki|km|kn|kp|kr|kw|ky|kz|la|lb|lc|li|lk|lr|ls|lt|lu|lv|ly|ma|mc|md|me|mg|mh|mk|ml|mm|mn|mo|mp|mq|mr|ms|mt|mu|mv|mw|mx|my|mz|na|nc|ne|nf|ng|ni|nl|no|np|nr|nu|nz|om|pa|pe|pf|pg|ph|pk|pl|pm|pn|pr|ps|pt|pw|py|qa|re|ro|rs|ru|rw|sa|sb|sc|sd|se|sg|sh|si|sj|Ja|sk|sl|sm|sn|so|sr|ss|st|su|sv|sx|sy|sz|tc|td|tf|tg|th|tj|tk|tl|tm|tn|to|tp|tr|tt|tv|tw|tz|ua|ug|uk|us|uy|uz|va|vc|ve|vg|vi|vn|vu|wf|ws|ye|yt|yu|za|zm|zw)\\b/?(?!@)))\", \"\", texto)"
   ]
  },
  {
   "source": [
    "## Função para limpar os wikilinks"
   ],
   "cell_type": "markdown",
   "metadata": {}
  },
  {
   "cell_type": "code",
   "execution_count": 5,
   "metadata": {},
   "outputs": [],
   "source": [
    "def sub_links(texto):\n",
    "    return re.sub(r\"\\[\\[(?:[^|]*?\\|)*?([^|]*?)\\]\\]\", r\"\\1\", texto)"
   ]
  },
  {
   "source": [
    "## Função para limpar os templates"
   ],
   "cell_type": "markdown",
   "metadata": {}
  },
  {
   "cell_type": "code",
   "execution_count": 6,
   "metadata": {},
   "outputs": [],
   "source": [
    "def rm_templates(texto):\n",
    "    count = 0\n",
    "    spansToRemove = []\n",
    "    for item in re.finditer(r\"{{|}}\", texto):\n",
    "        if item[0] == \"{{\":\n",
    "            if count == 0:\n",
    "                begin = item.span()[0]\n",
    "            count += 1\n",
    "        else:\n",
    "            count -= 1\n",
    "            if count == 0:\n",
    "                end = item.span()[1]\n",
    "                spansToRemove.append((begin, end))\n",
    "    cleanText = \"\"\n",
    "    begin = 0\n",
    "    for span in spansToRemove:\n",
    "        end, nextBegin = span\n",
    "        cleanText += texto[begin:end]\n",
    "        begin = nextBegin\n",
    "    cleanText += texto[begin:]\n",
    "    return cleanText"
   ]
  },
  {
   "cell_type": "code",
   "execution_count": 7,
   "metadata": {},
   "outputs": [],
   "source": [
    "def rm_templates2(texto):\n",
    "    count = 0\n",
    "    spansToRemove = []\n",
    "    for item in re.finditer(r\"{[\\|]|[\\|]}\", texto):\n",
    "        if item[0] == \"{|\":\n",
    "            if count == 0:\n",
    "                begin = item.span()[0]\n",
    "            count += 1\n",
    "        else:\n",
    "            count -= 1\n",
    "            if count == 0:\n",
    "                end = item.span()[1]\n",
    "                spansToRemove.append((begin, end))\n",
    "    cleanText = \"\"\n",
    "    begin = 0\n",
    "    for span in spansToRemove:\n",
    "        end, nextBegin = span\n",
    "        cleanText += texto[begin:end]\n",
    "        begin = nextBegin\n",
    "    cleanText += texto[begin:]\n",
    "    return cleanText"
   ]
  },
  {
   "source": [
    "## Função para remover as as ocorrências de ```<ref>...</ref>```"
   ],
   "cell_type": "markdown",
   "metadata": {}
  },
  {
   "cell_type": "code",
   "execution_count": 8,
   "metadata": {},
   "outputs": [],
   "source": [
    "def rm_refs(texto):\n",
    "    return re.sub(r\"<ref.*>.*</ref>|<ref.*>|</ref>\", \"\", texto)"
   ]
  },
  {
   "cell_type": "code",
   "execution_count": 9,
   "metadata": {},
   "outputs": [],
   "source": [
    "def rm_htmlTags(texto):\n",
    "    return re.sub(r\"<.*?>|</.*?>\", \"\", texto)"
   ]
  },
  {
   "source": [
    "## Função para remover as ocorrências de aspas (simples ou dupla)"
   ],
   "cell_type": "markdown",
   "metadata": {}
  },
  {
   "cell_type": "code",
   "execution_count": 10,
   "metadata": {},
   "outputs": [],
   "source": [
    "def rm_aspas(texto):\n",
    "    return re.sub(r\"(['\\\"]+)(.*?)\\1\", r\"\\2\", texto)"
   ]
  },
  {
   "cell_type": "code",
   "execution_count": 11,
   "metadata": {},
   "outputs": [],
   "source": [
    "def rm_caracterEspecial(texto):\n",
    "    sem_travessao = re.sub(r\"\\s\\-\\s|\\-\\-+\", \" \", texto)\n",
    "    return re.sub(r\"[^\\w\\s\\-]\", \" \", sem_travessao)"
   ]
  },
  {
   "cell_type": "code",
   "execution_count": 12,
   "metadata": {},
   "outputs": [],
   "source": [
    "def rm_digitos(texto):\n",
    "    return re.sub(r\"\\w*\\d\\w*\", \"\", texto)"
   ]
  },
  {
   "cell_type": "code",
   "execution_count": 13,
   "metadata": {},
   "outputs": [],
   "source": [
    "def rm_travessaoErrado(texto):\n",
    "    return re.sub(r\"(\\w+)\\-|\\-(\\w+)\", r\"\\1\\2\", texto)"
   ]
  },
  {
   "source": [
    "## Pipeline Completa"
   ],
   "cell_type": "markdown",
   "metadata": {}
  },
  {
   "cell_type": "code",
   "execution_count": 14,
   "metadata": {},
   "outputs": [],
   "source": [
    "def limpa_textos(txt):\n",
    "    output = rm_htmlLinks(txt)\n",
    "    output = sub_links(output)\n",
    "    output = rm_refs(output)\n",
    "    output = rm_htmlTags(output)\n",
    "    output = rm_templates(output)\n",
    "    output = rm_templates2(output)\n",
    "    output = rm_aspas(output)\n",
    "    output = rm_caracterEspecial(output)\n",
    "    output = rm_digitos(output)\n",
    "    output = rm_travessaoErrado(output)\n",
    "    return output"
   ]
  },
  {
   "cell_type": "code",
   "execution_count": 19,
   "metadata": {
    "tags": []
   },
   "outputs": [
    {
     "output_type": "stream",
     "name": "stdout",
     "text": [
      "{{Evento atual|tema=construção}}\n[[Imagem:NicaraguaCanalPanorama.jpg|thumb|Concepção artística do canal proposto, 1899]]\n[[Imagem:1895NicaraguaCanalCartoon.jpg|thumb|Cartum de 1895 defendendo a ação dos EUA para a construção do Canal da Nicarágua.]]\nO '''Canal da Nicarágua''' (espanhol: ''Canal de Nicaragua''), formalmente o '''Canal''' da '''Nicarágua e Projeto de Desenvolvimento''' (também conhecido como '''Grande Canal''' da '''Nicarágua''', ou '''Grande Canal Interoceânico''' foi uma rota de navegação proposta através da Nicarágua para conectar o [[Mar do Caribe]] (e, portanto, o [[Oceano Atlântico]]) com o [[Oceano Pacífico]]. Os cientistas estavam preocupados com o impacto ambiental do projeto, já que o Lago Nicarágua é o principal reservatório de água doce da América Central enquanto a viabilidade do projeto foi questionada por engenheiros e especialistas em navegação.<ref name=\":0\">{{citar web |ultimo= |primeiro= |url=https://www.bloomberg.com/news/articles/2016-03-17/china-slowdown-not-holding-back-nicaragua-canal-contractor-says |titulo=McDonald, Michael D (March 17, 2016). \"China Slowdown Not Holding Back Nicaragua Canal, Contractor Says\". |data= |acessodata= |publicado=BloombergBusiness}}</ref><ref>{{citar web |ultimo= |primeiro= |url=http://www.techtimes.com/articles/37433/20150305/scientists-wary-about-environmental-effects-of-canal-building-project-in-nicaragua.htm |titulo=Passary, Sumit (5 March 2015). \"Scientists Wary About Environmental Effects Of Canal-Building Project In Nicaragua\". |data= |acessodata= |publicado=Tech Times}}</ref> \n\nA construção de um canal usando o Rio San Juan como via de acesso ao [[Lago Nicarágua]] foi proposta pela primeira vez no início da era colonial. Os Estados Unidos abandonaram os [[Tratado Clayton-Bulwer|planos de construir uma hidrovia na Nicarágua]] no início do século 20, depois que compraram as participações francesas no [[Canal do Panamá]].\n\nEm junho de 2013, a Assembleia Nacional da Nicarágua aprovou um projeto de lei para conceder 50 anos de concessão para financiar e gerenciar o projeto para o Canal da Nicarágua Investment Development HK (HKND) chefiada por Wang Jing, um homem de negócios chinês.<ref>{{citar web |ultimo= |primeiro= |url=https://www.bbc.co.uk/news/world-latin-america-23058301 |titulo=\"Nicaragua canal plan not a joke - Chinese businessman\". |data= |acessodata= |publicado=BBC News}}</ref><ref>{{citar web |ultimo= |primeiro= |url=http://www.nicaraguadispatch.com/news/2012/09/nicaragua-taps-china-for-canal-project/5206 |titulo=\"Nicaragua taps China for canal project\". |data= |acessodata= |publicado=Nicaragua dispatch.}}</ref><ref>{{citar web |ultimo= |primeiro= |url=https://www.theguardian.com/world/2013/jun/06/nicaragua-china-panama-canal |titulo=Watts, Jonathan; Richards, Gareth (6 June 2013). \"Nicaragua gives Chinese firm contract to build alternative to Panama Canal\". |data= |acessodata= |publicado=The Guardian}}</ref> A concessão poderia ter sido prorrogada por mais 50 anos após a entrada em operação da hidrovia.<ref>{{citar web |ultimo= |primeiro= |url=https://online.wsj.com/news/articles/SB10001424127887323734304578543432234604100 |titulo=De Cordoba, Jose (2013-06-13). \"Nicaragua Revives Its Canal Dream\". |data= |acessodata= |publicado=The Wall Street Journal Online}}</ref> \n[[Ficheiro:NicaraguaCanal.5.jpg|miniaturadaimagem|Projeto do Canal da Nicarágua (2014) (linha azul). Estrelas indicam as propostas de Brito e Camilo Locks. A linha vermelha é a fronteira entre a Nicarágua (acima) e a Costa Rica (abaixo).]]\nEm 2015, relatos da mídia sugeriram que o projeto seria adiado e possivelmente cancelado porque a riqueza pessoal de Wang diminuiu muito como resultado do crash do mercado de ações chinês em 2015-16.<ref name=\":0\" /><ref>South China Morning Post 2015/11/28 \"Chinese company postpones US$50 billion canal project in Nicaragua as chairman’s personal fortune tumbles\"</ref> \"Grandes obras\", como dragagem, deveriam ocorrer após o acabamento de um cais do Oceano Pacífico, cuja construção estava planejada para começar no final de 2016.<ref name=\":0\" /> O governo da [[Nicarágua]] não apresentou informações confiáveis ​​sobre se ou não o projeto pode ser financiado, levantando-se dúvidas sobre se seria concluído.<ref>{{citar web |ultimo= |primeiro= |url=https://www.reuters.com/article/2014/12/26/us-nicaragua-canal-idUSKBN0K410620141226 |titulo=\"Doubts deepen over Chinese-backed Nicaragua canal as work starts\". |data= |acessodata= |publicado=Reuters.}}</ref><ref>{{citar web |ultimo= |primeiro= |url=http://www.scmp.com/business/companies/article/1681680/doubts-raised-over-nicaraguan-canal-project-trade-patterns-shift |titulo=\"Doubts raised over Nicaraguan canal project as trade patterns shift\". |data= |acessodata= |publicado=South China Morning Post.}}</ref> O Grupo HKND afirmou que o financiamento viria de dívidas e vendas de ações e uma potencial oferta pública inicial (IPO).<ref name=\":0\" /> \n\nEm maio de 2017, nenhuma ação concreta havia sido tomada para construir o canal e mais dúvidas foram expressas sobre seu financiamento.<ref>{{citar web |ultimo= |primeiro= |url=https://web.archive.org/web/20170823160624/https://panampost.com/adriana-peralta/2017/05/08/four-years-later-china-backed-nicaragua-canal-struggles-to-take-off-the-ground/ |titulo=Adriana Peralta (May 8, 2017). \"Four Years Later, China-Backed Nicaragua Canal Struggles to Take Off the Ground\". |data= |acessodata= |publicado=PanAm Post}}</ref>  Em fevereiro de 2018, os analistas consideraram amplamente o projeto como extinto,<ref>{{citar web |ultimo= |primeiro= |url=https://www.opendemocracy.net/democraciaabierta/beverly-goldberg/is-nicaraguan-mega-canal-failure-good-news-for-indigenous-communi |titulo=Is the Nicaraguan mega-canal failure good news for indigenous communities? |data= |acessodata= |publicado=Beverly Goldberg, Open Democracy.}}</ref> embora o chefe do projeto insistisse que o trabalho estava em andamento<ref>{{citar web |ultimo= |primeiro= |url=https://www.elfinancierocr.com/economia-y-politica/incertidumbres-financieras-desvanecen-sueno-de/7HFF44CY3RBVVE7BR3YRKJ3XZY/story/ |titulo=Incertidumbres financieras desvanecen sueño de canal en Nicaragua. |data= |acessodata= |publicado=El Financiero. AFP}}</ref> e o HKND reteve os direitos legais de concessão para o canal, bem como projetos laterais.<ref>{{citar web |ultimo= |primeiro= |url=http://www.tampabay.com/ap-explains-nicaragua-pension-changes-ignite-fiery-protests-ap_worldf7ec735f59954b0b8f9e4c8bdf97e130 |titulo=\"AP Explains: Nicaragua pension changes ignite fiery protests\". |data= |acessodata= |publicado=AP}}</ref> Apesar do desaparecimento do HKND, o governo da Nicarágua indica que prosseguirá com as desapropriações de 908 km<sup>2</sup> em terras secas em qualquer lugar da Nicarágua, de acordo com a Lei 840 do Canal de expropriação de terras.\n\n== Construção ==\nNenhuma construção significativa ocorreu.<ref>Watts, Jonathan (November 24, 2016). [https://www.theguardian.com/world/2016/nov/24/nicaragua-canal-interoceanic-preparations \"Nicaragua canal: in a sleepy Pacific port, something stirs\"]. ''The Guardian''. ISSN 0261-3077.</ref>\n\n== Ver também ==\n* [[Canal de Suez]]\n* [[Canal do Panamá]]\n* [[Canal da Guatemala]]\n* [[Istmo centro-americano]]\n* [[Rota de comércio]]\n* [[Transporte marítimo]]\n* [[Canal da Tailândia]]\n\n== Referências ==\n<references />\n\n\n\n\n\n{{Esboço-história}}\n{{Portal3|Geografia|Nicarágua|América Central}}\n\n{{DEFAULTSORT:Canal Da Nicaragua}}\n[[Categoria:Geografia da Nicarágua]]\n[[Categoria:História da Nicarágua]]\n[[Categoria:Guerras das Bananas]]\n"
     ]
    }
   ],
   "source": [
    "print(data[1313][\"body\"])"
   ]
  },
  {
   "cell_type": "code",
   "execution_count": 18,
   "metadata": {},
   "outputs": [
    {
     "output_type": "stream",
     "name": "stdout",
     "text": [
      "\nConcepção artística do canal proposto  \nCartum de  defendendo a ação dos EUA para a construção do Canal da Nicarágua \nO Canal da Nicarágua  espanhol  Canal de Nicaragua   formalmente o Canal da Nicarágua e Projeto de Desenvolvimento  também conhecido como Grande Canal da Nicarágua  ou Grande Canal Interoceânico foi uma rota de navegação proposta através da Nicarágua para conectar o Mar do Caribe  e  portanto  o Oceano Atlântico  com o Oceano Pacífico  Os cientistas estavam preocupados com o impacto ambiental do projeto  já que o Lago Nicarágua é o principal reservatório de água doce da América Central enquanto a viabilidade do projeto foi questionada por engenheiros e especialistas em navegação  \n\nA construção de um canal usando o Rio San Juan como via de acesso ao Lago Nicarágua foi proposta pela primeira vez no início da era colonial  Os Estados Unidos abandonaram os planos de construir uma hidrovia na Nicarágua no início do século   depois que compraram as participações francesas no Canal do Panamá \n\nEm junho de   a Assembleia Nacional da Nicarágua aprovou um projeto de lei para conceder  anos de concessão para financiar e gerenciar o projeto para o Canal da Nicarágua Investment Development HK  HKND  chefiada por Wang Jing  um homem de negócios chinês  \nProjeto do Canal da Nicarágua     linha azul   Estrelas indicam as propostas de Brito e Camilo Locks  A linha vermelha é a fronteira entre a Nicarágua  acima  e a Costa Rica  abaixo  \nEm   relatos da mídia sugeriram que o projeto seria adiado e possivelmente cancelado porque a riqueza pessoal de Wang diminuiu muito como resultado do crash do mercado de ações chinês em -  O Grupo HKND afirmou que o financiamento viria de dívidas e vendas de ações e uma potencial oferta pública inicial  IPO   \n\nEm maio de   nenhuma ação concreta havia sido tomada para construir o canal e mais dúvidas foram expressas sobre seu financiamento  Apesar do desaparecimento do HKND  o governo da Nicarágua indica que prosseguirá com as desapropriações de   em terras secas em qualquer lugar da Nicarágua  de acordo com a Lei  do Canal de expropriação de terras \n\n   Construção   \nNenhuma construção significativa ocorreu \n\n   Ver também   \n  Canal de Suez\n  Canal do Panamá\n  Canal da Guatemala\n  Istmo centroamericano\n  Rota de comércio\n  Transporte marítimo\n  Canal da Tailândia\n\n   Referências   \n\n\n\n\n\n\n\n\n\n\nCategoria Geografia da Nicarágua\nCategoria História da Nicarágua\nCategoria Guerras das Bananas\n"
     ]
    }
   ],
   "source": [
    "print(limpa_textos(data[1313][\"body\"]))"
   ]
  },
  {
   "cell_type": "code",
   "execution_count": null,
   "metadata": {},
   "outputs": [],
   "source": []
  }
 ]
}